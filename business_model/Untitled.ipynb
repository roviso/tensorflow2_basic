{
 "cells": [
  {
   "cell_type": "code",
   "execution_count": 6,
   "metadata": {},
   "outputs": [],
   "source": [
    "import numpy as np\n",
    "import tensorflow as tf"
   ]
  },
  {
   "cell_type": "code",
   "execution_count": 7,
   "metadata": {},
   "outputs": [],
   "source": [
    "npz = np.load('train_dataset.npz')\n",
    "\n",
    "train_input = npz['inputs'].astype(np.float)\n",
    "train_target = npz['targets'].astype(np.int)\n",
    "\n",
    "npz = np.load('validation_dataset.npz')\n",
    "validation_inputs, validation_targets = npz['inputs'].astype(np.float),npz['targets'].astype(np.int)\n",
    "\n",
    "npz = np.load('test_dataset.npz')\n",
    "test_inputs, test_targets = npz['inputs'].astype(np.float),npz['targets'].astype(np.int)\n"
   ]
  },
  {
   "cell_type": "markdown",
   "metadata": {},
   "source": [
    "Building THE MODEL\n"
   ]
  },
  {
   "cell_type": "code",
   "execution_count": 9,
   "metadata": {},
   "outputs": [
    {
     "data": {
      "text/plain": [
       "10"
      ]
     },
     "execution_count": 9,
     "metadata": {},
     "output_type": "execute_result"
    }
   ],
   "source": [
    "train_input.shape[1]"
   ]
  },
  {
   "cell_type": "code",
   "execution_count": 10,
   "metadata": {},
   "outputs": [],
   "source": [
    "input_size = 10\n",
    "output_size = 2\n",
    "hidden_layer_size = 50\n",
    "\n",
    "model = tf.keras.Sequential([\n",
    "                            tf.keras.layers.Dense(hidden_layer_size, activation='relu'),\n",
    "                            tf.keras.layers.Dense(hidden_layer_size,activation='relu'),\n",
    "                            tf.keras.layers.Dense(output_size,activation='softmax')\n",
    "                            ])"
   ]
  },
  {
   "cell_type": "code",
   "execution_count": 11,
   "metadata": {},
   "outputs": [
    {
     "name": "stdout",
     "output_type": "stream",
     "text": [
      "Epoch 1/100\n",
      "36/36 - 1s - loss: 0.5500 - accuracy: 0.7826 - val_loss: 0.4073 - val_accuracy: 0.8658\n",
      "Epoch 2/100\n",
      "36/36 - 0s - loss: 0.3667 - accuracy: 0.8731 - val_loss: 0.3054 - val_accuracy: 0.8904\n",
      "Epoch 3/100\n",
      "36/36 - 0s - loss: 0.3166 - accuracy: 0.8826 - val_loss: 0.2783 - val_accuracy: 0.8971\n",
      "Epoch 4/100\n",
      "36/36 - 0s - loss: 0.2961 - accuracy: 0.8902 - val_loss: 0.2682 - val_accuracy: 0.9060\n",
      "Epoch 5/100\n",
      "36/36 - 0s - loss: 0.2813 - accuracy: 0.8949 - val_loss: 0.2585 - val_accuracy: 0.9038\n",
      "Epoch 6/100\n",
      "36/36 - 0s - loss: 0.2741 - accuracy: 0.8966 - val_loss: 0.2541 - val_accuracy: 0.9105\n",
      "Epoch 7/100\n",
      "36/36 - 0s - loss: 0.2658 - accuracy: 0.9003 - val_loss: 0.2513 - val_accuracy: 0.9060\n",
      "Epoch 8/100\n",
      "36/36 - 0s - loss: 0.2609 - accuracy: 0.8989 - val_loss: 0.2494 - val_accuracy: 0.9105\n",
      "Epoch 9/100\n",
      "36/36 - 0s - loss: 0.2563 - accuracy: 0.9014 - val_loss: 0.2450 - val_accuracy: 0.9128\n",
      "Epoch 10/100\n",
      "36/36 - 0s - loss: 0.2525 - accuracy: 0.9019 - val_loss: 0.2429 - val_accuracy: 0.9128\n",
      "Epoch 11/100\n",
      "36/36 - 0s - loss: 0.2502 - accuracy: 0.9028 - val_loss: 0.2423 - val_accuracy: 0.9150\n",
      "Epoch 12/100\n",
      "36/36 - 0s - loss: 0.2467 - accuracy: 0.9058 - val_loss: 0.2395 - val_accuracy: 0.9150\n",
      "Epoch 13/100\n",
      "36/36 - 0s - loss: 0.2455 - accuracy: 0.9064 - val_loss: 0.2372 - val_accuracy: 0.9150\n",
      "Epoch 14/100\n",
      "36/36 - 0s - loss: 0.2418 - accuracy: 0.9067 - val_loss: 0.2367 - val_accuracy: 0.9150\n",
      "Epoch 15/100\n",
      "36/36 - 0s - loss: 0.2419 - accuracy: 0.9067 - val_loss: 0.2359 - val_accuracy: 0.9150\n",
      "Epoch 16/100\n",
      "36/36 - 0s - loss: 0.2388 - accuracy: 0.9081 - val_loss: 0.2348 - val_accuracy: 0.9150\n",
      "Epoch 17/100\n",
      "36/36 - 0s - loss: 0.2364 - accuracy: 0.9114 - val_loss: 0.2354 - val_accuracy: 0.9150\n",
      "Epoch 18/100\n",
      "36/36 - 0s - loss: 0.2346 - accuracy: 0.9103 - val_loss: 0.2369 - val_accuracy: 0.9172\n",
      "Epoch 19/100\n",
      "36/36 - 0s - loss: 0.2348 - accuracy: 0.9111 - val_loss: 0.2336 - val_accuracy: 0.9172\n",
      "Epoch 20/100\n",
      "36/36 - 0s - loss: 0.2326 - accuracy: 0.9123 - val_loss: 0.2335 - val_accuracy: 0.9217\n",
      "Epoch 21/100\n",
      "36/36 - 0s - loss: 0.2333 - accuracy: 0.9106 - val_loss: 0.2339 - val_accuracy: 0.9172\n",
      "Epoch 22/100\n",
      "36/36 - 0s - loss: 0.2306 - accuracy: 0.9125 - val_loss: 0.2301 - val_accuracy: 0.9195\n",
      "Epoch 23/100\n",
      "36/36 - 0s - loss: 0.2306 - accuracy: 0.9134 - val_loss: 0.2301 - val_accuracy: 0.9128\n",
      "Epoch 24/100\n",
      "36/36 - 0s - loss: 0.2333 - accuracy: 0.9134 - val_loss: 0.2322 - val_accuracy: 0.9172\n",
      "Epoch 25/100\n",
      "36/36 - 0s - loss: 0.2272 - accuracy: 0.9137 - val_loss: 0.2293 - val_accuracy: 0.9195\n",
      "Epoch 26/100\n",
      "36/36 - 0s - loss: 0.2257 - accuracy: 0.9159 - val_loss: 0.2332 - val_accuracy: 0.9195\n",
      "Epoch 27/100\n",
      "36/36 - 0s - loss: 0.2289 - accuracy: 0.9148 - val_loss: 0.2291 - val_accuracy: 0.9195\n",
      "Epoch 28/100\n",
      "36/36 - 0s - loss: 0.2277 - accuracy: 0.9151 - val_loss: 0.2306 - val_accuracy: 0.9172\n",
      "Epoch 29/100\n",
      "36/36 - 0s - loss: 0.2241 - accuracy: 0.9148 - val_loss: 0.2307 - val_accuracy: 0.9239\n",
      "Epoch 30/100\n",
      "36/36 - 0s - loss: 0.2247 - accuracy: 0.9167 - val_loss: 0.2278 - val_accuracy: 0.9195\n",
      "Epoch 31/100\n",
      "36/36 - 0s - loss: 0.2236 - accuracy: 0.9162 - val_loss: 0.2324 - val_accuracy: 0.9217\n",
      "Epoch 32/100\n",
      "36/36 - 0s - loss: 0.2252 - accuracy: 0.9148 - val_loss: 0.2261 - val_accuracy: 0.9195\n",
      "Epoch 33/100\n",
      "36/36 - 0s - loss: 0.2247 - accuracy: 0.9176 - val_loss: 0.2292 - val_accuracy: 0.9195\n",
      "Epoch 34/100\n",
      "36/36 - 0s - loss: 0.2206 - accuracy: 0.9165 - val_loss: 0.2362 - val_accuracy: 0.9128\n",
      "Epoch 35/100\n",
      "36/36 - 0s - loss: 0.2231 - accuracy: 0.9156 - val_loss: 0.2273 - val_accuracy: 0.9217\n",
      "Epoch 36/100\n",
      "36/36 - 0s - loss: 0.2194 - accuracy: 0.9159 - val_loss: 0.2292 - val_accuracy: 0.9195\n",
      "Epoch 37/100\n",
      "36/36 - 0s - loss: 0.2199 - accuracy: 0.9162 - val_loss: 0.2277 - val_accuracy: 0.9172\n",
      "Epoch 38/100\n",
      "36/36 - 0s - loss: 0.2204 - accuracy: 0.9165 - val_loss: 0.2278 - val_accuracy: 0.9195\n",
      "Epoch 39/100\n",
      "36/36 - 0s - loss: 0.2212 - accuracy: 0.9153 - val_loss: 0.2259 - val_accuracy: 0.9195\n",
      "Epoch 40/100\n",
      "36/36 - 0s - loss: 0.2189 - accuracy: 0.9165 - val_loss: 0.2271 - val_accuracy: 0.9195\n",
      "Epoch 41/100\n",
      "36/36 - 0s - loss: 0.2229 - accuracy: 0.9167 - val_loss: 0.2265 - val_accuracy: 0.9172\n",
      "Epoch 42/100\n",
      "36/36 - 0s - loss: 0.2188 - accuracy: 0.9173 - val_loss: 0.2269 - val_accuracy: 0.9195\n",
      "Epoch 43/100\n",
      "36/36 - 0s - loss: 0.2182 - accuracy: 0.9181 - val_loss: 0.2237 - val_accuracy: 0.9195\n",
      "Epoch 44/100\n",
      "36/36 - 0s - loss: 0.2178 - accuracy: 0.9193 - val_loss: 0.2269 - val_accuracy: 0.9195\n",
      "Epoch 45/100\n",
      "36/36 - 0s - loss: 0.2186 - accuracy: 0.9176 - val_loss: 0.2250 - val_accuracy: 0.9195\n",
      "Epoch 46/100\n",
      "36/36 - 0s - loss: 0.2178 - accuracy: 0.9165 - val_loss: 0.2270 - val_accuracy: 0.9195\n",
      "Epoch 47/100\n",
      "36/36 - 0s - loss: 0.2189 - accuracy: 0.9176 - val_loss: 0.2233 - val_accuracy: 0.9217\n",
      "Epoch 48/100\n",
      "36/36 - 0s - loss: 0.2170 - accuracy: 0.9190 - val_loss: 0.2252 - val_accuracy: 0.9195\n",
      "Epoch 49/100\n",
      "36/36 - 0s - loss: 0.2195 - accuracy: 0.9162 - val_loss: 0.2279 - val_accuracy: 0.9172\n",
      "Epoch 50/100\n",
      "36/36 - 0s - loss: 0.2176 - accuracy: 0.9184 - val_loss: 0.2262 - val_accuracy: 0.9217\n",
      "Epoch 51/100\n",
      "36/36 - 0s - loss: 0.2169 - accuracy: 0.9179 - val_loss: 0.2229 - val_accuracy: 0.9172\n",
      "Epoch 52/100\n",
      "36/36 - 0s - loss: 0.2178 - accuracy: 0.9167 - val_loss: 0.2257 - val_accuracy: 0.9195\n",
      "Epoch 53/100\n",
      "36/36 - 0s - loss: 0.2171 - accuracy: 0.9181 - val_loss: 0.2251 - val_accuracy: 0.9217\n",
      "Epoch 54/100\n",
      "36/36 - 0s - loss: 0.2180 - accuracy: 0.9176 - val_loss: 0.2228 - val_accuracy: 0.9217\n",
      "Epoch 55/100\n",
      "36/36 - 0s - loss: 0.2147 - accuracy: 0.9184 - val_loss: 0.2251 - val_accuracy: 0.9195\n",
      "Epoch 56/100\n",
      "36/36 - 0s - loss: 0.2164 - accuracy: 0.9173 - val_loss: 0.2228 - val_accuracy: 0.9195\n",
      "Epoch 57/100\n",
      "36/36 - 0s - loss: 0.2149 - accuracy: 0.9195 - val_loss: 0.2233 - val_accuracy: 0.9195\n",
      "Epoch 58/100\n",
      "36/36 - 0s - loss: 0.2132 - accuracy: 0.9179 - val_loss: 0.2233 - val_accuracy: 0.9195\n",
      "Epoch 59/100\n",
      "36/36 - 0s - loss: 0.2141 - accuracy: 0.9187 - val_loss: 0.2280 - val_accuracy: 0.9172\n",
      "Epoch 60/100\n",
      "36/36 - 0s - loss: 0.2155 - accuracy: 0.9181 - val_loss: 0.2257 - val_accuracy: 0.9217\n",
      "Epoch 61/100\n",
      "36/36 - 0s - loss: 0.2170 - accuracy: 0.9179 - val_loss: 0.2261 - val_accuracy: 0.9239\n",
      "Epoch 62/100\n",
      "36/36 - 0s - loss: 0.2127 - accuracy: 0.9195 - val_loss: 0.2248 - val_accuracy: 0.9195\n",
      "Epoch 63/100\n",
      "36/36 - 0s - loss: 0.2139 - accuracy: 0.9193 - val_loss: 0.2259 - val_accuracy: 0.9239\n",
      "Epoch 64/100\n",
      "36/36 - 0s - loss: 0.2139 - accuracy: 0.9181 - val_loss: 0.2212 - val_accuracy: 0.9195\n",
      "Epoch 65/100\n",
      "36/36 - 0s - loss: 0.2133 - accuracy: 0.9193 - val_loss: 0.2206 - val_accuracy: 0.9239\n",
      "Epoch 66/100\n",
      "36/36 - 0s - loss: 0.2124 - accuracy: 0.9193 - val_loss: 0.2245 - val_accuracy: 0.9150\n",
      "Epoch 67/100\n",
      "36/36 - 0s - loss: 0.2130 - accuracy: 0.9181 - val_loss: 0.2397 - val_accuracy: 0.9284\n",
      "Epoch 68/100\n",
      "36/36 - 0s - loss: 0.2148 - accuracy: 0.9198 - val_loss: 0.2227 - val_accuracy: 0.9217\n",
      "Epoch 69/100\n",
      "36/36 - 0s - loss: 0.2117 - accuracy: 0.9195 - val_loss: 0.2223 - val_accuracy: 0.9195\n",
      "Epoch 70/100\n",
      "36/36 - 0s - loss: 0.2105 - accuracy: 0.9198 - val_loss: 0.2222 - val_accuracy: 0.9195\n",
      "Epoch 71/100\n",
      "36/36 - 0s - loss: 0.2111 - accuracy: 0.9187 - val_loss: 0.2226 - val_accuracy: 0.9195\n",
      "Epoch 72/100\n",
      "36/36 - 0s - loss: 0.2130 - accuracy: 0.9187 - val_loss: 0.2226 - val_accuracy: 0.9195\n",
      "Epoch 73/100\n",
      "36/36 - 0s - loss: 0.2130 - accuracy: 0.9179 - val_loss: 0.2252 - val_accuracy: 0.9217\n",
      "Epoch 74/100\n",
      "36/36 - 0s - loss: 0.2120 - accuracy: 0.9187 - val_loss: 0.2278 - val_accuracy: 0.9150\n",
      "Epoch 75/100\n",
      "36/36 - 0s - loss: 0.2124 - accuracy: 0.9190 - val_loss: 0.2229 - val_accuracy: 0.9195\n",
      "Epoch 76/100\n",
      "36/36 - 0s - loss: 0.2109 - accuracy: 0.9198 - val_loss: 0.2232 - val_accuracy: 0.9239\n",
      "Epoch 77/100\n",
      "36/36 - 0s - loss: 0.2101 - accuracy: 0.9198 - val_loss: 0.2224 - val_accuracy: 0.9195\n",
      "Epoch 78/100\n",
      "36/36 - 0s - loss: 0.2107 - accuracy: 0.9193 - val_loss: 0.2215 - val_accuracy: 0.9239\n",
      "Epoch 79/100\n",
      "36/36 - 0s - loss: 0.2076 - accuracy: 0.9201 - val_loss: 0.2248 - val_accuracy: 0.9239\n",
      "Epoch 80/100\n",
      "36/36 - 0s - loss: 0.2129 - accuracy: 0.9204 - val_loss: 0.2247 - val_accuracy: 0.9239\n",
      "Epoch 81/100\n",
      "36/36 - 0s - loss: 0.2112 - accuracy: 0.9193 - val_loss: 0.2241 - val_accuracy: 0.9217\n",
      "Epoch 82/100\n",
      "36/36 - 0s - loss: 0.2093 - accuracy: 0.9206 - val_loss: 0.2228 - val_accuracy: 0.9239\n",
      "Epoch 83/100\n",
      "36/36 - 0s - loss: 0.2088 - accuracy: 0.9215 - val_loss: 0.2232 - val_accuracy: 0.9217\n",
      "Epoch 84/100\n",
      "36/36 - 0s - loss: 0.2106 - accuracy: 0.9201 - val_loss: 0.2242 - val_accuracy: 0.9195\n",
      "Epoch 85/100\n",
      "36/36 - 0s - loss: 0.2079 - accuracy: 0.9195 - val_loss: 0.2215 - val_accuracy: 0.9262\n",
      "Epoch 86/100\n",
      "36/36 - 0s - loss: 0.2091 - accuracy: 0.9204 - val_loss: 0.2226 - val_accuracy: 0.9217\n",
      "Epoch 87/100\n",
      "36/36 - 0s - loss: 0.2078 - accuracy: 0.9212 - val_loss: 0.2221 - val_accuracy: 0.9262\n",
      "Epoch 88/100\n",
      "36/36 - 0s - loss: 0.2082 - accuracy: 0.9206 - val_loss: 0.2256 - val_accuracy: 0.9217\n",
      "Epoch 89/100\n",
      "36/36 - 0s - loss: 0.2085 - accuracy: 0.9195 - val_loss: 0.2209 - val_accuracy: 0.9262\n",
      "Epoch 90/100\n",
      "36/36 - 0s - loss: 0.2077 - accuracy: 0.9209 - val_loss: 0.2219 - val_accuracy: 0.9195\n",
      "Epoch 91/100\n",
      "36/36 - 0s - loss: 0.2074 - accuracy: 0.9206 - val_loss: 0.2237 - val_accuracy: 0.9262\n",
      "Epoch 92/100\n",
      "36/36 - 0s - loss: 0.2085 - accuracy: 0.9201 - val_loss: 0.2243 - val_accuracy: 0.9239\n",
      "Epoch 93/100\n",
      "36/36 - 0s - loss: 0.2067 - accuracy: 0.9209 - val_loss: 0.2227 - val_accuracy: 0.9195\n",
      "Epoch 94/100\n",
      "36/36 - 0s - loss: 0.2086 - accuracy: 0.9184 - val_loss: 0.2267 - val_accuracy: 0.9172\n",
      "Epoch 95/100\n",
      "36/36 - 0s - loss: 0.2085 - accuracy: 0.9193 - val_loss: 0.2224 - val_accuracy: 0.9217\n",
      "Epoch 96/100\n",
      "36/36 - 0s - loss: 0.2066 - accuracy: 0.9215 - val_loss: 0.2264 - val_accuracy: 0.9239\n",
      "Epoch 97/100\n",
      "36/36 - 0s - loss: 0.2069 - accuracy: 0.9204 - val_loss: 0.2206 - val_accuracy: 0.9195\n",
      "Epoch 98/100\n",
      "36/36 - 0s - loss: 0.2065 - accuracy: 0.9223 - val_loss: 0.2237 - val_accuracy: 0.9217\n",
      "Epoch 99/100\n",
      "36/36 - 0s - loss: 0.2045 - accuracy: 0.9206 - val_loss: 0.2268 - val_accuracy: 0.9150\n",
      "Epoch 100/100\n",
      "36/36 - 0s - loss: 0.2091 - accuracy: 0.9167 - val_loss: 0.2245 - val_accuracy: 0.9262\n"
     ]
    },
    {
     "data": {
      "text/plain": [
       "<tensorflow.python.keras.callbacks.History at 0x263a956bb00>"
      ]
     },
     "execution_count": 11,
     "metadata": {},
     "output_type": "execute_result"
    }
   ],
   "source": [
    "model.compile(optimizer='adam',loss='sparse_categorical_crossentropy',metrics = ['accuracy'])\n",
    "\n",
    "batch_size = 100\n",
    "\n",
    "max_epochs = 100\n",
    "\n",
    "model.fit(train_input,\n",
    "          train_target,\n",
    "          batch_size= batch_size,\n",
    "          epochs = max_epochs,\n",
    "          validation_data = (validation_inputs,validation_targets),\n",
    "          verbose=2\n",
    "             )"
   ]
  },
  {
   "cell_type": "code",
   "execution_count": 14,
   "metadata": {},
   "outputs": [
    {
     "name": "stdout",
     "output_type": "stream",
     "text": [
      "Epoch 1/100\n",
      "36/36 - 0s - loss: 0.5661 - accuracy: 0.7603 - val_loss: 0.4299 - val_accuracy: 0.8770\n",
      "Epoch 2/100\n",
      "36/36 - 0s - loss: 0.3719 - accuracy: 0.8737 - val_loss: 0.3120 - val_accuracy: 0.8881\n",
      "Epoch 3/100\n",
      "36/36 - 0s - loss: 0.3188 - accuracy: 0.8818 - val_loss: 0.2863 - val_accuracy: 0.8971\n",
      "Epoch 4/100\n",
      "36/36 - 0s - loss: 0.2975 - accuracy: 0.8891 - val_loss: 0.2742 - val_accuracy: 0.8993\n",
      "Epoch 5/100\n",
      "36/36 - 0s - loss: 0.2843 - accuracy: 0.8924 - val_loss: 0.2646 - val_accuracy: 0.8949\n",
      "Epoch 6/100\n",
      "36/36 - 0s - loss: 0.2738 - accuracy: 0.8955 - val_loss: 0.2601 - val_accuracy: 0.9083\n",
      "Epoch 7/100\n",
      "36/36 - 0s - loss: 0.2652 - accuracy: 0.8989 - val_loss: 0.2538 - val_accuracy: 0.9150\n",
      "Epoch 8/100\n",
      "36/36 - 0s - loss: 0.2604 - accuracy: 0.9008 - val_loss: 0.2518 - val_accuracy: 0.9105\n",
      "Epoch 9/100\n",
      "36/36 - 0s - loss: 0.2549 - accuracy: 0.9016 - val_loss: 0.2488 - val_accuracy: 0.9105\n",
      "Epoch 10/100\n",
      "36/36 - 0s - loss: 0.2509 - accuracy: 0.9042 - val_loss: 0.2446 - val_accuracy: 0.9128\n",
      "Epoch 11/100\n",
      "36/36 - 0s - loss: 0.2477 - accuracy: 0.9044 - val_loss: 0.2441 - val_accuracy: 0.9105\n",
      "Epoch 12/100\n",
      "36/36 - 0s - loss: 0.2448 - accuracy: 0.9053 - val_loss: 0.2406 - val_accuracy: 0.9150\n",
      "Epoch 13/100\n",
      "36/36 - 0s - loss: 0.2430 - accuracy: 0.9070 - val_loss: 0.2405 - val_accuracy: 0.9195\n",
      "Epoch 14/100\n",
      "36/36 - 0s - loss: 0.2406 - accuracy: 0.9086 - val_loss: 0.2394 - val_accuracy: 0.9172\n",
      "Epoch 15/100\n",
      "36/36 - 0s - loss: 0.2392 - accuracy: 0.9075 - val_loss: 0.2379 - val_accuracy: 0.9128\n",
      "Epoch 16/100\n",
      "36/36 - 0s - loss: 0.2367 - accuracy: 0.9098 - val_loss: 0.2355 - val_accuracy: 0.9150\n",
      "Epoch 17/100\n",
      "36/36 - 0s - loss: 0.2371 - accuracy: 0.9106 - val_loss: 0.2387 - val_accuracy: 0.9172\n",
      "Epoch 18/100\n",
      "36/36 - 0s - loss: 0.2356 - accuracy: 0.9117 - val_loss: 0.2433 - val_accuracy: 0.9060\n"
     ]
    },
    {
     "data": {
      "text/plain": [
       "<tensorflow.python.keras.callbacks.History at 0x263abf4ee48>"
      ]
     },
     "execution_count": 14,
     "metadata": {},
     "output_type": "execute_result"
    }
   ],
   "source": [
    "input_size = 10\n",
    "output_size = 2\n",
    "hidden_layer_size = 50\n",
    "\n",
    "model = tf.keras.Sequential([\n",
    "                            tf.keras.layers.Dense(hidden_layer_size, activation='relu'),\n",
    "                            tf.keras.layers.Dense(hidden_layer_size,activation='relu'),\n",
    "                            tf.keras.layers.Dense(output_size,activation='softmax')\n",
    "                            ])\n",
    "\n",
    "model.compile(optimizer='adam',loss='sparse_categorical_crossentropy',metrics = ['accuracy'])\n",
    "\n",
    "batch_size = 100\n",
    "\n",
    "max_epochs = 100\n",
    "\n",
    "early_stopping = tf.keras.callbacks.EarlyStopping(patience=2)\n",
    "\n",
    "\n",
    "model.fit(train_input,\n",
    "          train_target,\n",
    "          batch_size= batch_size,\n",
    "          epochs = max_epochs,\n",
    "          callbacks = [early_stopping],\n",
    "          validation_data = (validation_inputs,validation_targets),\n",
    "          verbose=2\n",
    "        \n",
    "         )"
   ]
  },
  {
   "cell_type": "markdown",
   "metadata": {},
   "source": [
    "Testing the model"
   ]
  },
  {
   "cell_type": "code",
   "execution_count": 15,
   "metadata": {},
   "outputs": [
    {
     "name": "stdout",
     "output_type": "stream",
     "text": [
      "14/14 [==============================] - 0s 3ms/step - loss: 0.2461 - accuracy: 0.8973\n"
     ]
    }
   ],
   "source": [
    "test_loss, test_accuracy = model.evaluate(test_inputs, test_targets)"
   ]
  },
  {
   "cell_type": "code",
   "execution_count": 17,
   "metadata": {},
   "outputs": [
    {
     "name": "stdout",
     "output_type": "stream",
     "text": [
      "Test loss: 0.25, Test Accuracy: 89.73%\n"
     ]
    }
   ],
   "source": [
    "print('Test loss: {0:.2f}, Test Accuracy: {1:.2f}%'.format(test_loss,test_accuracy*100))"
   ]
  },
  {
   "cell_type": "code",
   "execution_count": null,
   "metadata": {},
   "outputs": [],
   "source": []
  }
 ],
 "metadata": {
  "kernelspec": {
   "display_name": "Python 3",
   "language": "python",
   "name": "python3"
  },
  "language_info": {
   "codemirror_mode": {
    "name": "ipython",
    "version": 3
   },
   "file_extension": ".py",
   "mimetype": "text/x-python",
   "name": "python",
   "nbconvert_exporter": "python",
   "pygments_lexer": "ipython3",
   "version": "3.6.6"
  }
 },
 "nbformat": 4,
 "nbformat_minor": 2
}
